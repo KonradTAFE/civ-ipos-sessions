{
 "cells": [
  {
   "cell_type": "markdown",
   "id": "b4e3a8a6",
   "metadata": {},
   "source": [
    "# Traversing Nested Data Structures in Python\n",
    "\n",
    "---\n"
   ]
  },
  {
   "cell_type": "markdown",
   "id": "4b482050",
   "metadata": {},
   "source": [
    "## Traversing a 4D List\n",
    "Using nested `for` loops to access all elements in a 4D list."
   ]
  },
  {
   "cell_type": "code",
   "id": "23a2c078",
   "metadata": {
    "jupyter": {
     "is_executing": true
    }
   },
   "source": [
    "# Example of a 4D list (list of list of list of lists)\n",
    "data = [\n",
    "    [\n",
    "        [\n",
    "            [1, 2], [3, 4]\n",
    "        ],\n",
    "        [\n",
    "            [5, 6], [7, 8]\n",
    "        ]\n",
    "    ],\n",
    "    [\n",
    "        [\n",
    "            [9, 10], [11, 12]\n",
    "        ],\n",
    "        [\n",
    "            [13, 14], [15, 16]\n",
    "        ]\n",
    "    ]\n",
    "]\n",
    "\n",
    "# Traversing through the 4D list\n",
    "for i in range(len(data)):\n",
    "    for j in range(len(data[i])):\n",
    "        for k in range(len(data[i][j])):\n",
    "            for l in range(len(data[i][j][k])):\n",
    "                print(f\"data[{i}][{j}][{k}][{l}] = {data[i][j][k][l]}\")\n"
   ],
   "outputs": [],
   "execution_count": null
  },
  {
   "cell_type": "markdown",
   "id": "8f826a2f",
   "metadata": {},
   "source": [
    "## Traversing a List of Dictionaries of Lists of Dictionaries\n",
    "Using loops to access elements dynamically."
   ]
  },
  {
   "cell_type": "code",
   "id": "e1171490",
   "metadata": {
    "jupyter": {
     "is_executing": true
    }
   },
   "source": [
    "# 4D structure: List of Dicts -> List -> Dict -> Values\n",
    "data = [\n",
    "    {\n",
    "        \"group1\": [\n",
    "            {\"id\": 1, \"value\": \"A\"},\n",
    "            {\"id\": 2, \"value\": \"B\"}\n",
    "        ],\n",
    "        \"group2\": [\n",
    "            {\"id\": 3, \"value\": \"C\"},\n",
    "            {\"id\": 4, \"value\": \"D\"}\n",
    "        ]\n",
    "    },\n",
    "    {\n",
    "        \"group3\": [\n",
    "            {\"id\": 5, \"value\": \"E\"},\n",
    "            {\"id\": 6, \"value\": \"F\"}\n",
    "        ],\n",
    "        \"group4\": [\n",
    "            {\"id\": 7, \"value\": \"G\"},\n",
    "            {\"id\": 8, \"value\": \"H\"}\n",
    "        ]\n",
    "    }\n",
    "]\n",
    "\n",
    "# Traversing the 4D structure\n",
    "for i, dictionary in enumerate(data):  # Loop through the list of dictionaries\n",
    "    for key, sublist in dictionary.items():  # Loop through dictionary keys and lists\n",
    "        for j, subdict in enumerate(sublist):  # Loop through the list of dictionaries\n",
    "            for sub_key, value in subdict.items():  # Loop through dictionary items\n",
    "                print(f\"data[{i}]['{key}'][{j}]['{sub_key}'] = {value}\")\n"
   ],
   "outputs": [],
   "execution_count": null
  },
  {
   "cell_type": "markdown",
   "id": "da787a1c",
   "metadata": {},
   "source": [
    "## Recursive Traversal Function\n",
    "Handles unknown depth by checking data type dynamically."
   ]
  },
  {
   "cell_type": "code",
   "execution_count": null,
   "id": "5e79cf6c",
   "metadata": {},
   "outputs": [],
   "source": [
    "def traverse(data, path=\"data\"):\n",
    "    if isinstance(data, dict):\n",
    "        for key, value in data.items():\n",
    "            traverse(value, f\"{path}['{key}']\")\n",
    "    elif isinstance(data, list):\n",
    "        for index, item in enumerate(data):\n",
    "            traverse(item, f\"{path}[{index}]\")\n",
    "    else:\n",
    "        # Base case: reached a non-iterable item\n",
    "        print(f\"{path} = {data}\")\n",
    "\n",
    "# List of dictionaries of lists of dictionaries\n",
    "data = [\n",
    "    {\n",
    "        \"group1\": [\n",
    "            {\"id\": 1, \"value\": \"A\"},\n",
    "            {\"id\": 2, \"value\": \"B\"}\n",
    "        ],\n",
    "        \"group2\": [\n",
    "            {\"id\": 3, \"value\": \"C\"},\n",
    "            {\"id\": 4, \"value\": \"D\"}\n",
    "        ]\n",
    "    },\n",
    "    {\n",
    "        \"group3\": [\n",
    "            {\"id\": 5, \"value\": \"E\"},\n",
    "            {\"id\": 6, \"value\": \"F\"}\n",
    "        ],\n",
    "        \"group4\": [\n",
    "            {\"id\": 7, \"value\": \"G\"},\n",
    "            {\"id\": 8, \"value\": \"H\"}\n",
    "        ]\n",
    "    }\n",
    "]\n",
    "\n",
    "traverse(data)\n"
   ]
  }
 ],
 "metadata": {
  "kernelspec": {
   "display_name": "Python 3",
   "language": "python",
   "name": "python3"
  },
  "language_info": {
   "name": "python",
   "version": "3.13.2"
  }
 },
 "nbformat": 4,
 "nbformat_minor": 5
}
